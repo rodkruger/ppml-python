{
 "cells": [
  {
   "metadata": {},
   "cell_type": "markdown",
   "source": [
    "# Differential Privacy: Overview, Advantages, and Limitations\n",
    "\n",
    "## What is Differential Privacy?\n",
    "Differential Privacy (DP) is a mathematical framework for providing privacy guarantees while analyzing and sharing data. The core idea is to ensure that the inclusion or exclusion of any single individual's data does not significantly affect the output of an analysis, thereby protecting their privacy. This is achieved by adding carefully calibrated noise to the data or to the results of computations.\n",
    "\n",
    "The privacy guarantee is quantified by two parameters:\n",
    "- **Epsilon (ε)**: Controls the trade-off between privacy and accuracy; smaller ε provides stronger privacy but potentially less accurate results.\n",
    "- **Delta (δ)**: Represents the probability of failing to achieve the desired privacy level (used in relaxed versions of DP).\n",
    "\n",
    "## Main Advantages\n",
    "1. **Strong Privacy Guarantees**: Protects individuals' data even against adversaries with auxiliary knowledge.\n",
    "2. **Mathematical Rigor**: Provides provable and quantifiable privacy guarantees.\n",
    "3. **Scalability**: Suitable for large datasets and machine learning models.\n",
    "4. **Flexibility**: Can be applied to various applications, including statistics, machine learning, and synthetic data generation.\n",
    "5. **Resilience**: Ensures privacy protection even when multiple analyses are conducted on the same dataset (composition property).\n",
    "\n",
    "## Main Disadvantages\n",
    "1. **Utility Loss**: Adding noise to ensure privacy can degrade the accuracy of results, especially with smaller datasets or low ε values.\n",
    "2. **Complex Implementation**: Requires careful tuning of privacy parameters and understanding of the underlying mathematics.\n",
    "3. **Resource Intensive**: In some cases, computational requirements increase due to the additional noise and constraints.\n",
    "\n",
    "## Limitations\n",
    "1. **Requires Large Datasets**: Differential Privacy works best with large datasets to mitigate utility loss from added noise.\n",
    "2. **No Absolute Privacy**: Privacy guarantees are probabilistic, meaning there is still a small chance of information leakage (controlled by δ).\n",
    "3. **Not a Universal Solution**: DP does not eliminate all privacy risks (e.g., adversaries might infer information indirectly through external data).\n",
    "4. **Interpretability Challenges**: Non-technical stakeholders may find it difficult to interpret and understand ε and δ parameters.\n",
    "\n",
    "## Conclusion\n",
    "Differential Privacy is a powerful tool for balancing the need for data utility and individual privacy. However, its practical implementation requires careful consideration of privacy-utility trade-offs, parameter tuning, and domain-specific requirements.\n"
   ],
   "id": "c11e7cf909cba8d9"
  },
  {
   "metadata": {},
   "cell_type": "code",
   "outputs": [],
   "execution_count": null,
   "source": [
    "!pip install diffprivlib\n",
    "\n",
    "import diffprivlib.models as dp"
   ],
   "id": "a44c3e8aad40a3ff"
  },
  {
   "metadata": {
    "ExecuteTime": {
     "end_time": "2025-01-26T19:50:21.023354Z",
     "start_time": "2025-01-26T19:50:21.019743Z"
    }
   },
   "cell_type": "code",
   "source": [
    "from sklearn import datasets\n",
    "from sklearn.metrics import accuracy_score, r2_score\n",
    "from sklearn.model_selection import train_test_split\n",
    "from sklearn.pipeline import Pipeline\n",
    "from sklearn.preprocessing import MinMaxScaler"
   ],
   "id": "8e1e54422f09403d",
   "outputs": [],
   "execution_count": 19
  },
  {
   "metadata": {
    "ExecuteTime": {
     "end_time": "2025-01-26T19:37:07.960749Z",
     "start_time": "2025-01-26T19:37:07.883275Z"
    }
   },
   "cell_type": "code",
   "source": [
    "import numpy as np\n",
    "\n",
    "X_train = np.loadtxt(\"https://archive.ics.uci.edu/ml/machine-learning-databases/adult/adult.data\",\n",
    "                     usecols=(0, 4, 10, 11, 12), delimiter=\",\")\n",
    "y_train = np.loadtxt(\"https://archive.ics.uci.edu/ml/machine-learning-databases/adult/adult.data\", usecols=14,\n",
    "                     dtype=str, delimiter=\",\")\n",
    "\n",
    "X_test = np.loadtxt(\"https://archive.ics.uci.edu/ml/machine-learning-databases/adult/adult.test\",\n",
    "                    usecols=(0, 4, 10, 11, 12), delimiter=\",\", skiprows=1)\n",
    "y_test = np.loadtxt(\"https://archive.ics.uci.edu/ml/machine-learning-databases/adult/adult.test\", usecols=14, dtype=str,\n",
    "                    delimiter=\",\", skiprows=1)\n",
    "\n",
    "y_test = np.array([a[:-1] for a in y_test])"
   ],
   "id": "15eddcaac8c888b0",
   "outputs": [
    {
     "name": "stderr",
     "output_type": "stream",
     "text": [
      "/tmp/ipykernel_1884739/2344259381.py:5: UserWarning: Input line 32562 contained no data and will not be counted towards `max_rows=50000`.  This differs from the behaviour in NumPy <=1.22 which counted lines rather than rows.  If desired, the previous behaviour can be achieved by using `itertools.islice`.\n",
      "Please see the 1.23 release notes for an example on how to do this.  If you wish to ignore this warning, use `warnings.filterwarnings`.  This warning is expected to be removed in the future and is given only once per `loadtxt` call.\n",
      "  y_train = np.loadtxt(\"https://archive.ics.uci.edu/ml/machine-learning-databases/adult/adult.data\", usecols=14,\n",
      "/tmp/ipykernel_1884739/2344259381.py:10: UserWarning: Input line 16283 contained no data and will not be counted towards `max_rows=50000`.  This differs from the behaviour in NumPy <=1.22 which counted lines rather than rows.  If desired, the previous behaviour can be achieved by using `itertools.islice`.\n",
      "Please see the 1.23 release notes for an example on how to do this.  If you wish to ignore this warning, use `warnings.filterwarnings`.  This warning is expected to be removed in the future and is given only once per `loadtxt` call.\n",
      "  y_test = np.loadtxt(\"https://archive.ics.uci.edu/ml/machine-learning-databases/adult/adult.test\", usecols=14, dtype=str,\n"
     ]
    }
   ],
   "execution_count": 8
  },
  {
   "metadata": {
    "ExecuteTime": {
     "end_time": "2025-01-26T19:38:54.800625Z",
     "start_time": "2025-01-26T19:38:54.730402Z"
    }
   },
   "cell_type": "code",
   "source": [
    "from sklearn.naive_bayes import GaussianNB\n",
    "\n",
    "nonprivate_clf = GaussianNB()\n",
    "nonprivate_clf.fit(X_train, y_train)\n",
    "\n",
    "print(\"Non-private test accuracy: %.2f%%\" %\n",
    "      (accuracy_score(y_test, nonprivate_clf.predict(X_test)) * 100))\n",
    "\n",
    "dp_clf = dp.GaussianNB(epsilon=0.01)\n",
    "\n",
    "dp_clf.fit(X_train, y_train)\n",
    "\n",
    "print(\"Differentially private test accuracy (epsilon=%.2f): %.2f%%\" %\n",
    "      (dp_clf.epsilon, accuracy_score(y_test, dp_clf.predict(X_test)) * 100))"
   ],
   "id": "624edb8db3798b56",
   "outputs": [
    {
     "name": "stdout",
     "output_type": "stream",
     "text": [
      "Non-private test accuracy: 79.64%\n",
      "Differentially private test accuracy (epsilon=0.01): 78.30%\n"
     ]
    },
    {
     "name": "stderr",
     "output_type": "stream",
     "text": [
      "/home/rkruger/miniconda3/envs/ppml-python/lib/python3.12/site-packages/diffprivlib/models/naive_bayes.py:107: PrivacyLeakWarning: Bounds have not been specified and will be calculated on the data provided. This will result in additional privacy leakage. To ensure differential privacy and no additional privacy leakage, specify bounds for each dimension.\n",
      "  warnings.warn(\"Bounds have not been specified and will be calculated on the data provided. This will \"\n"
     ]
    }
   ],
   "execution_count": 13
  },
  {
   "metadata": {
    "ExecuteTime": {
     "end_time": "2025-01-26T19:40:13.184445Z",
     "start_time": "2025-01-26T19:40:13.078311Z"
    }
   },
   "cell_type": "code",
   "source": [
    "from sklearn.linear_model import LogisticRegression\n",
    "\n",
    "lr = Pipeline([\n",
    "    ('scaler', MinMaxScaler()),\n",
    "    ('clf', LogisticRegression(solver=\"lbfgs\"))\n",
    "])\n",
    "\n",
    "lr.fit(X_train, y_train)\n",
    "\n",
    "print(\"Non-private test accuracy: %.2f%%\" % (accuracy_score(y_test, lr.predict(X_test)) * 100))\n",
    "\n",
    "dp_lr = Pipeline([\n",
    "    ('scaler', MinMaxScaler()),\n",
    "    ('clf', dp.LogisticRegression(epsilon=0.01))\n",
    "])\n",
    "\n",
    "dp_lr.fit(X_train, y_train)\n",
    "print(\"Differentially private test accuracy (epsilon=%.2f): %.2f%%\" %\n",
    "      (dp_lr['clf'].epsilon, accuracy_score(y_test, dp_lr.predict(X_test)) * 100))\n"
   ],
   "id": "65c70d6e5331694a",
   "outputs": [
    {
     "name": "stdout",
     "output_type": "stream",
     "text": [
      "Non-private test accuracy: 81.04%\n",
      "Differentially private test accuracy (epsilon=0.01): 76.38%\n"
     ]
    },
    {
     "name": "stderr",
     "output_type": "stream",
     "text": [
      "/home/rkruger/miniconda3/envs/ppml-python/lib/python3.12/site-packages/diffprivlib/models/logistic_regression.py:239: PrivacyLeakWarning: Data norm has not been specified and will be calculated on the data provided.  This will result in additional privacy leakage. To ensure differential privacy and no additional privacy leakage, specify `data_norm` at initialisation.\n",
      "  warnings.warn(\"Data norm has not been specified and will be calculated on the data provided.  This will \"\n"
     ]
    }
   ],
   "execution_count": 16
  },
  {
   "metadata": {
    "ExecuteTime": {
     "end_time": "2025-01-26T19:50:44.990907Z",
     "start_time": "2025-01-26T19:50:44.984335Z"
    }
   },
   "cell_type": "code",
   "source": [
    "dataset = datasets.load_diabetes()\n",
    "\n",
    "X_train, X_test, y_train, y_test = train_test_split(dataset.data,\n",
    "                                                    dataset.target, test_size=0.2)\n",
    "\n",
    "print(\"Train examples: %d, Test examples: %d\" % (X_train.shape[0],\n",
    "                                                 X_test.shape[0]))"
   ],
   "id": "fea6c0cec847b76d",
   "outputs": [
    {
     "name": "stdout",
     "output_type": "stream",
     "text": [
      "Train examples: 353, Test examples: 89\n"
     ]
    }
   ],
   "execution_count": 25
  },
  {
   "metadata": {
    "ExecuteTime": {
     "end_time": "2025-01-26T19:51:59.385722Z",
     "start_time": "2025-01-26T19:51:59.345747Z"
    }
   },
   "cell_type": "code",
   "source": [
    "from sklearn.linear_model import LinearRegression as sk_LinearRegression\n",
    "\n",
    "regr = sk_LinearRegression()\n",
    "\n",
    "regr.fit(X_train, y_train)\n",
    "\n",
    "baseline = r2_score(y_test, regr.predict(X_test))\n",
    "print(\"Non-private baseline: %.2f\" % baseline)\n",
    "\n",
    "from diffprivlib.models import LinearRegression\n",
    "\n",
    "regr = LinearRegression(epsilon=0.01)\n",
    "regr.fit(X_train, y_train)\n",
    "\n",
    "print(\"R2 score for epsilon=%.2f: %.2f\" % (regr.epsilon, r2_score(y_test, regr.predict(X_test))))"
   ],
   "id": "249400944dc7c5c",
   "outputs": [
    {
     "name": "stdout",
     "output_type": "stream",
     "text": [
      "Non-private baseline: 0.44\n",
      "R2 score for epsilon=0.01: -28921958697987.12\n"
     ]
    },
    {
     "name": "stderr",
     "output_type": "stream",
     "text": [
      "/home/rkruger/miniconda3/envs/ppml-python/lib/python3.12/site-packages/diffprivlib/models/linear_regression.py:271: PrivacyLeakWarning: Bounds parameters haven't been specified, so falling back to determining bounds from the data.\n",
      "This will result in additional privacy leakage. To ensure differential privacy with no additional privacy loss, specify `bounds_X` and `bounds_y`.\n",
      "  warnings.warn(\n"
     ]
    }
   ],
   "execution_count": 28
  }
 ],
 "metadata": {
  "kernelspec": {
   "display_name": "Python 3",
   "language": "python",
   "name": "python3"
  },
  "language_info": {
   "codemirror_mode": {
    "name": "ipython",
    "version": 2
   },
   "file_extension": ".py",
   "mimetype": "text/x-python",
   "name": "python",
   "nbconvert_exporter": "python",
   "pygments_lexer": "ipython2",
   "version": "2.7.6"
  }
 },
 "nbformat": 4,
 "nbformat_minor": 5
}
